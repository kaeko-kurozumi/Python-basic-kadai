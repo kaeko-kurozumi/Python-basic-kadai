{
  "nbformat": 4,
  "nbformat_minor": 0,
  "metadata": {
    "colab": {
      "provenance": []
    },
    "kernelspec": {
      "name": "python3",
      "display_name": "Python 3"
    },
    "language_info": {
      "name": "python"
    }
  },
  "cells": [
    {
      "cell_type": "code",
      "execution_count": 1,
      "metadata": {
        "id": "CLDEZ044PoxA",
        "outputId": "03ea9871-1516-4fd8-a4d2-20f793021ea7",
        "colab": {
          "base_uri": "https://localhost:8080/"
        }
      },
      "outputs": [
        {
          "output_type": "stream",
          "name": "stdout",
          "text": [
            "名前: 太郎, 年齢: 25\n"
          ]
        }
      ],
      "source": [
        "class Human:\n",
        "    def __init__(self, name, age):\n",
        "        self.name = name\n",
        "        self.age = age\n",
        "\n",
        "    def printinfo(self):\n",
        "        print(f\"名前: {self.name}, 年齢: {self.age}\")\n",
        "\n",
        "# Humanクラスのインスタンスを作成\n",
        "person1 = Human(\"太郎\", 25)\n",
        "\n",
        "# printinfoメソッドを使用して名前と年齢を標準出力に表示\n",
        "person1.printinfo()"
      ]
    }
  ]
}
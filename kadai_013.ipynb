{
  "nbformat": 4,
  "nbformat_minor": 0,
  "metadata": {
    "colab": {
      "provenance": []
    },
    "kernelspec": {
      "name": "python3",
      "display_name": "Python 3"
    },
    "language_info": {
      "name": "python"
    }
  },
  "cells": [
    {
      "cell_type": "code",
      "execution_count": 1,
      "metadata": {
        "colab": {
          "base_uri": "https://localhost:8080/"
        },
        "id": "ilKFvB5YDJka",
        "outputId": "41f5f940-501c-4a9d-8bf8-9a63f33956b4"
      },
      "outputs": [
        {
          "output_type": "stream",
          "name": "stdout",
          "text": [
            "商品の金額: 1000円\n",
            "消費税込みの合計金額: 1100.0円\n"
          ]
        }
      ],
      "source": [
        "def calculate_total_price(product_price, tax_rate=0.1):\n",
        "    # 商品の金額と消費税を考慮して合計金額を計算\n",
        "    total_price = product_price * (1 + tax_rate)\n",
        "    return total_price\n",
        "\n",
        "# 例: 商品の金額が1000円の場合\n",
        "product_price = 1000\n",
        "total_price_with_tax = calculate_total_price(product_price)\n",
        "\n",
        "print(f\"商品の金額: {product_price}円\")\n",
        "print(f\"消費税込みの合計金額: {total_price_with_tax}円\")\n"
      ]
    }
  ]
}
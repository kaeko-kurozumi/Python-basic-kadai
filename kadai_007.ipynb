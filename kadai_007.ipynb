{
  "nbformat": 4,
  "nbformat_minor": 0,
  "metadata": {
    "colab": {
      "provenance": []
    },
    "kernelspec": {
      "name": "python3",
      "display_name": "Python 3"
    },
    "language_info": {
      "name": "python"
    }
  },
  "cells": [
    {
      "cell_type": "code",
      "execution_count": null,
      "metadata": {
        "id": "qBt5_FOjJ-Xq",
        "colab": {
          "base_uri": "https://localhost:8080/"
        },
        "outputId": "dbea5318-491b-4495-9ee5-0b8a280aa9da"
      },
      "outputs": [
        {
          "output_type": "stream",
          "name": "stdout",
          "text": [
            "水曜日は晴れです\n",
            "晴れ\n"
          ]
        }
      ],
      "source": [
        "list = [\"月曜日は晴れです\",\"火曜日は雨です\",\"水曜日は晴れです\",\"木曜日は晴れです\",\"金曜日は曇りです\",\"土曜日は曇りのち雨です\",\"日曜日は雷雨です\"]\n",
        "dictionary = {\"mon\":\"晴れ\",\"tue\":\"雨\",\"wed\":\"晴れ\",\"thu\":\"晴れ\",\"fri\":\"曇り\",\"sat\":\"曇りのち雨\",\"sun\":\"雷雨\",}\n",
        "#水曜日の天気を取り出して表示\n",
        "print(list[2])\n",
        "#水曜日（wed）の天気予報を取りだして表示\n",
        "print(dictionary[\"wed\"])"
      ]
    },
    {
      "cell_type": "code",
      "source": [
        "# リスト\n",
        "weather_list = [\n",
        "    \"月曜日は晴れです\",\n",
        "    \"火曜日は雨です\",\n",
        "    \"水曜日は晴れです\",\n",
        "    \"木曜日は晴れです\",\n",
        "    \"金曜日は曇りです\",\n",
        "    \"土曜日は曇りのち雨です\",\n",
        "    \"日曜日は雷雨です\"\n",
        "]\n",
        "\n",
        "# ディクショナリ\n",
        "weather_dict = {\n",
        "    \"mon\": \"晴れ\",\n",
        "    \"tue\": \"雨\",\n",
        "    \"wed\": \"晴れ\",\n",
        "    \"thu\": \"晴れ\",\n",
        "    \"fri\": \"曇り\",\n",
        "    \"sat\": \"曇りのち雨\",\n",
        "    \"sun\": \"雷雨\",\n",
        "}\n",
        "\n",
        "# 水曜日の天気予報を取得\n",
        "wednesday_weather_list = [weather for weather in weather_list if \"水曜日\" in weather][0]\n",
        "wednesday_weather_dict = weather_dict[\"wed\"]\n",
        "\n",
        "# 結果を出力\n",
        "print(\"水曜日の天気（リスト）: {}\".format(wednesday_weather_list))\n",
        "print(\"水曜日の天気（ディクショナリ）: {}\".format(wednesday_weather_dict))\n"
      ],
      "metadata": {
        "colab": {
          "base_uri": "https://localhost:8080/"
        },
        "id": "DIJ9kzwjKlqZ",
        "outputId": "08ddd0f9-9fa3-4fec-84b9-aad3003aadb6"
      },
      "execution_count": null,
      "outputs": [
        {
          "output_type": "stream",
          "name": "stdout",
          "text": [
            "水曜日の天気（リスト）: 水曜日は晴れです\n",
            "水曜日の天気（ディクショナリ）: 晴れ\n"
          ]
        }
      ]
    }
  ]
}
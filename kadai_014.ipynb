{
  "nbformat": 4,
  "nbformat_minor": 0,
  "metadata": {
    "colab": {
      "provenance": []
    },
    "kernelspec": {
      "name": "python3",
      "display_name": "Python 3"
    },
    "language_info": {
      "name": "python"
    }
  },
  "cells": [
    {
      "cell_type": "code",
      "execution_count": 1,
      "metadata": {
        "id": "032sYsdgJKVZ",
        "outputId": "a2e976a2-b186-4fd6-a084-6b67a35c46b6",
        "colab": {
          "base_uri": "https://localhost:8080/"
        }
      },
      "outputs": [
        {
          "output_type": "stream",
          "name": "stdout",
          "text": [
            "330.0\n"
          ]
        }
      ],
      "source": [
        "def total(price1, price2):\n",
        "    tax_rate = 0.1  # 消費税率は0.1 (10%) とする\n",
        "    subtotal = price1 + price2\n",
        "    total_with_tax = subtotal * (1 + tax_rate)\n",
        "    return total_with_tax\n",
        "\n",
        "price1 = 100\n",
        "price2 = 200\n",
        "\n",
        "result = total(price1, price2)\n",
        "print(result)\n"
      ]
    }
  ]
}
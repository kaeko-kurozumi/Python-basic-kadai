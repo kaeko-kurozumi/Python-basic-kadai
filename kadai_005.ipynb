{
  "nbformat": 4,
  "nbformat_minor": 0,
  "metadata": {
    "colab": {
      "provenance": [],
      "authorship_tag": "ABX9TyNXcA96C3Vz1JkJbn4RJTPY",
      "include_colab_link": true
    },
    "kernelspec": {
      "name": "python3",
      "display_name": "Python 3"
    },
    "language_info": {
      "name": "python"
    }
  },
  "cells": [
    {
      "cell_type": "markdown",
      "metadata": {
        "id": "view-in-github",
        "colab_type": "text"
      },
      "source": [
        "<a href=\"https://colab.research.google.com/github/kaeko-kurozumi/Python-basic-kadai/blob/main/kadai_005.ipynb\" target=\"_parent\"><img src=\"https://colab.research.google.com/assets/colab-badge.svg\" alt=\"Open In Colab\"/></a>"
      ]
    },
    {
      "cell_type": "code",
      "execution_count": null,
      "metadata": {
        "colab": {
          "base_uri": "https://localhost:8080/"
        },
        "id": "04WnHQwiJkcV",
        "outputId": "cc954b3c-9c0b-4329-9d81-35e2bbda88aa"
      },
      "outputs": [
        {
          "output_type": "stream",
          "name": "stdout",
          "text": [
            "台形の面積は: 75.0 cm²\n"
          ]
        }
      ],
      "source": [
        "# 台形の各辺と高さの値を与える\n",
        "upper_base = 10  # 上辺の長さ (cm)\n",
        "lower_base = 20  # 下辺の長さ (cm)\n",
        "height = 5       # 高さ (cm)\n",
        "\n",
        "# 台形の面積を計算する公式\n",
        "trapezoid_area = (upper_base + lower_base) * height / 2\n",
        "\n",
        "# 結果を出力する\n",
        "print(\"台形の面積は: {} cm²\".format(trapezoid_area))"
      ]
    }
  ]
}
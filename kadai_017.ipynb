{
  "nbformat": 4,
  "nbformat_minor": 0,
  "metadata": {
    "colab": {
      "provenance": []
    },
    "kernelspec": {
      "name": "python3",
      "display_name": "Python 3"
    },
    "language_info": {
      "name": "python"
    }
  },
  "cells": [
    {
      "cell_type": "code",
      "execution_count": 3,
      "metadata": {
        "colab": {
          "base_uri": "https://localhost:8080/"
        },
        "id": "4HzgBH6_l2R-",
        "outputId": "2d41a8b6-c3c4-4d03-b55f-44688d4184ed"
      },
      "outputs": [
        {
          "output_type": "stream",
          "name": "stdout",
          "text": [
            "kaekoさんは大人です。\n",
            "yusukeさんは大人ではありません。\n",
            "yukoさんは大人です。\n"
          ]
        }
      ],
      "source": [
        "class Human:\n",
        "    def __init__(self, name, age):\n",
        "        self.name = name\n",
        "        self.age = age\n",
        "\n",
        "    def check_adult(self):\n",
        "        if self.age >= 20:\n",
        "            print(f\"{self.name}さんは大人です。\")\n",
        "        else:\n",
        "            print(f\"{self.name}さんは大人ではありません。\")\n",
        "\n",
        "# Humanクラスのインスタンスを複数生成してリストに追加\n",
        "people_list = [\n",
        "    Human(\"kaeko\", 25),\n",
        "    Human(\"yusuke\", 18),\n",
        "    Human(\"yuko\", 30),\n",
        "]\n",
        "\n",
        "# リストの要素数分だけcheck_adultメソッドを呼び出す\n",
        "for person in people_list:\n",
        "    person.check_adult()\n"
      ]
    }
  ]
}